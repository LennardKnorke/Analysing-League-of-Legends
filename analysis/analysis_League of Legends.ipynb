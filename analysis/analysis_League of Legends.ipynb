{
 "cells": [
  {
   "cell_type": "markdown",
   "id": "5361cb99-6a40-42a7-a4d5-f90313b20105",
   "metadata": {
    "tags": []
   },
   "source": [
    "# Analyzing Dataset\n",
    "***\n",
    "### Structure\n",
    "    (0. Explaining the dataset)\n",
    "    1. import packages\n",
    "    2. Overview of the dataset\n",
    "    3. Possibly cleaning\n",
    "    4. Descriptives and plots\n",
    "    5. Prediction models"
   ]
  },
  {
   "cell_type": "markdown",
   "id": "45042446-77b0-4bd1-9fe7-f5697d4c2987",
   "metadata": {},
   "source": [
    "## 0. Explaining the dataset(s)\n",
    "\n",
    "Dataset taken from: https://www.kaggle.com/datasets/chuckephron/leagueoflegends\n",
    "League of Legends is 5 vs 5 MOBA video game. The aim is to destroy the enemy \"Nexus\" while collecting goal, fighting the other team or AI enemies scattered across the map to collect experience. Players have acces to a growing number of at least 150 different Champions with 5 unique abilities and a range of items to build a teamcomb.\n",
    "The dataset contains information from Games played by the professional regional and international teams from 2015.\n",
    "   1. _columns includes a qualitative list of terms used to describe variables and will be ignored for further analysis. See for clarification.\n",
    "   2. bans\n"
   ]
  },
  {
   "cell_type": "markdown",
   "id": "a88ddae9-16e6-4541-a4c1-a1187afbbfb3",
   "metadata": {
    "tags": []
   },
   "source": [
    "## 1. Import Packages"
   ]
  },
  {
   "cell_type": "code",
   "execution_count": 4,
   "id": "b5afe0c0-f00f-4398-8a14-eee7daa35ffb",
   "metadata": {},
   "outputs": [],
   "source": [
    "import pandas as pd\n",
    "import matplotlib as plt\n",
    "import numpy as np"
   ]
  },
  {
   "cell_type": "markdown",
   "id": "9280eb98-6210-47a6-a87b-a1159232b560",
   "metadata": {},
   "source": [
    "## Over of the datasets.\n",
    "\n",
    "Loading and stuff"
   ]
  },
  {
   "cell_type": "code",
   "execution_count": 16,
   "id": "29ad3156-a63c-4230-b1b4-43528abeb28b",
   "metadata": {},
   "outputs": [],
   "source": [
    "df_Bans = pd.read_csv(\"../datasets/kaggleSet_League of legends/bans.csv\")\n",
    "df_gold = pd.read_csv(\"../datasets/kaggleSet_League of legends/gold.csv\")\n",
    "df_kills = pd.read_csv(\"../datasets/kaggleSet_League of legends/kills.csv\")\n",
    "df_LeagueofLegends = pd.read_csv(\"../datasets/kaggleSet_League of legends/LeagueofLegends.csv\")\n",
    "df_matchinfo = pd.read_csv(\"../datasets/kaggleSet_League of legends/matchinfo.csv\")\n",
    "df_monsters = pd.read_csv(\"../datasets/kaggleSet_League of legends/monsters.csv\")\n",
    "df_structures = pd.read_csv(\"../datasets/kaggleSet_League of legends/structures.csv\")\n",
    "NAMES = [\"Bans\", \"Gold\", \"Kills\", \"League of Legends\", \"matchinfo\", \"Monsters\", \"Structures\"]\n",
    "DATA = [df_Bans,df_gold,df_kills,df_LeagueofLegends,df_matchinfo, df_monsters, df_structures]"
   ]
  },
  {
   "cell_type": "code",
   "execution_count": 22,
   "id": "98a12bb1-1e72-422c-9b8c-cbb0bb021a83",
   "metadata": {},
   "outputs": [
    {
     "name": "stdout",
     "output_type": "stream",
     "text": [
      "Bans\n",
      "                                             Address      Team     ban_1  \\\n",
      "0  http://matchhistory.na.leagueoflegends.com/en/...  blueBans    Rumble   \n",
      "1  http://matchhistory.na.leagueoflegends.com/en/...  blueBans  Kassadin   \n",
      "2  http://matchhistory.na.leagueoflegends.com/en/...  blueBans  JarvanIV   \n",
      "\n",
      "       ban_2      ban_3 ban_4 ban_5  \n",
      "0   Kassadin  Lissandra   NaN   NaN  \n",
      "1      Sivir  Lissandra   NaN   NaN  \n",
      "2  Lissandra   Kassadin   NaN   NaN  \n",
      "\n",
      "Gold\n",
      "                                             Address      Type  min_1  min_2  \\\n",
      "0  http://matchhistory.na.leagueoflegends.com/en/...  golddiff      0      0   \n",
      "1  http://matchhistory.na.leagueoflegends.com/en/...  golddiff      0      0   \n",
      "2  http://matchhistory.na.leagueoflegends.com/en/...  golddiff      0      0   \n",
      "\n",
      "   min_3  min_4  min_5  min_6  min_7  min_8  ...  min_86  min_87  min_88  \\\n",
      "0    -14    -65   -268   -431   -488   -789  ...     NaN     NaN     NaN   \n",
      "1    -26    -18    147    237   -152     18  ...     NaN     NaN     NaN   \n",
      "2     10    -60     34     37    589   1064  ...     NaN     NaN     NaN   \n",
      "\n",
      "   min_89  min_90  min_91  min_92  min_93  min_94  min_95  \n",
      "0     NaN     NaN     NaN     NaN     NaN     NaN     NaN  \n",
      "1     NaN     NaN     NaN     NaN     NaN     NaN     NaN  \n",
      "2     NaN     NaN     NaN     NaN     NaN     NaN     NaN  \n",
      "\n",
      "[3 rows x 97 columns]\n",
      "\n",
      "Kills\n",
      "                                             Address    Team    Time  \\\n",
      "0  http://matchhistory.na.leagueoflegends.com/en/...  bKills  10.820   \n",
      "1  http://matchhistory.na.leagueoflegends.com/en/...  bKills  16.286   \n",
      "2  http://matchhistory.na.leagueoflegends.com/en/...  bKills  18.733   \n",
      "\n",
      "           Victim          Killer      Assist_1        Assist_2     Assist_3  \\\n",
      "0          C9 Hai    TSM Bjergsen           NaN             NaN          NaN   \n",
      "1  C9 LemonNation  TSM WildTurtle  TSM Santorin    TSM Bjergsen  TSM Lustboy   \n",
      "2          C9 Hai    TSM Bjergsen  TSM Santorin  TSM WildTurtle  TSM Lustboy   \n",
      "\n",
      "  Assist_4  x_pos y_pos  \n",
      "0      NaN   9229  8469  \n",
      "1      NaN  13908  5960  \n",
      "2      NaN   8281  7889  \n",
      "\n",
      "League of Legends\n",
      "  League  Year  Season    Type blueTeamTag  bResult  rResult redTeamTag  \\\n",
      "0  NALCS  2015  Spring  Season         TSM        1        0         C9   \n",
      "1  NALCS  2015  Spring  Season         CST        0        1        DIG   \n",
      "2  NALCS  2015  Spring  Season         WFX        1        0         GV   \n",
      "\n",
      "   gamelength                                           golddiff  ...  \\\n",
      "0          40  [0, 0, -14, -65, -268, -431, -488, -789, -494,...  ...   \n",
      "1          38  [0, 0, -26, -18, 147, 237, -152, 18, 88, -242,...  ...   \n",
      "2          40  [0, 0, 10, -60, 34, 37, 589, 1064, 1258, 913, ...  ...   \n",
      "\n",
      "  redMiddleChamp                                      goldredMiddle  redADC  \\\n",
      "0           Fizz  [475, 475, 552, 842, 1178, 1378, 1635, 1949, 2...  Sneaky   \n",
      "1           Azir  [475, 475, 552, 786, 1097, 1389, 1660, 1955, 2...  CoreJJ   \n",
      "2           Azir  [475, 475, 533, 801, 1006, 1233, 1385, 1720, 1...     Cop   \n",
      "\n",
      "  redADCChamp                                         goldredADC   redSupport  \\\n",
      "0       Sivir  [475, 475, 532, 762, 1097, 1469, 1726, 2112, 2...  LemonNation   \n",
      "1       Corki  [475, 475, 532, 868, 1220, 1445, 1732, 1979, 2...      KiWiKiD   \n",
      "2       Corki  [475, 475, 533, 781, 1085, 1398, 1782, 1957, 2...   BunnyFuFuu   \n",
      "\n",
      "  redSupportChamp                                     goldredSupport  \\\n",
      "0          Thresh  [515, 515, 577, 722, 911, 1042, 1194, 1370, 14...   \n",
      "1           Annie  [515, 515, 583, 752, 900, 1066, 1236, 1417, 15...   \n",
      "2           Janna  [515, 515, 584, 721, 858, 1002, 1168, 1303, 14...   \n",
      "\n",
      "                              redBans  \\\n",
      "0  ['Tristana', 'Leblanc', 'Nidalee']   \n",
      "1      ['RekSai', 'Janna', 'Leblanc']   \n",
      "2        ['Leblanc', 'Zed', 'RekSai']   \n",
      "\n",
      "                                             Address  \n",
      "0  http://matchhistory.na.leagueoflegends.com/en/...  \n",
      "1  http://matchhistory.na.leagueoflegends.com/en/...  \n",
      "2  http://matchhistory.na.leagueoflegends.com/en/...  \n",
      "\n",
      "[3 rows x 57 columns]\n",
      "\n",
      "matchinfo\n",
      "  League  Year  Season    Type blueTeamTag  bResult  rResult redTeamTag  \\\n",
      "0  NALCS  2015  Spring  Season         TSM        1        0         C9   \n",
      "1  NALCS  2015  Spring  Season         CST        0        1        DIG   \n",
      "2  NALCS  2015  Spring  Season         WFX        1        0         GV   \n",
      "\n",
      "   gamelength  blueTop  ... redTopChamp     redJungle redJungleChamp  \\\n",
      "0          40    Dyrus  ...        Gnar        Meteos          Elise   \n",
      "1          38     Cris  ...      Irelia       Crumbzz       JarvanIV   \n",
      "2          40  Flaresz  ...        Sion  Saintvicious         LeeSin   \n",
      "\n",
      "  redMiddle redMiddleChamp  redADC redADCChamp   redSupport redSupportChamp  \\\n",
      "0       Hai           Fizz  Sneaky       Sivir  LemonNation          Thresh   \n",
      "1  Shiphtur           Azir  CoreJJ       Corki      KiWiKiD           Annie   \n",
      "2     Keane           Azir     Cop       Corki   BunnyFuFuu           Janna   \n",
      "\n",
      "                                             Address  \n",
      "0  http://matchhistory.na.leagueoflegends.com/en/...  \n",
      "1  http://matchhistory.na.leagueoflegends.com/en/...  \n",
      "2  http://matchhistory.na.leagueoflegends.com/en/...  \n",
      "\n",
      "[3 rows x 30 columns]\n",
      "\n",
      "Monsters\n",
      "                                             Address      Team    Time    Type\n",
      "0  http://matchhistory.na.leagueoflegends.com/en/...  bDragons  37.267  DRAGON\n",
      "1  http://matchhistory.na.leagueoflegends.com/en/...  bDragons  32.545  DRAGON\n",
      "2  http://matchhistory.na.leagueoflegends.com/en/...  bDragons  26.177  DRAGON\n",
      "\n",
      "Structures\n",
      "                                             Address     Team    Time  \\\n",
      "0  http://matchhistory.na.leagueoflegends.com/en/...  bTowers  27.542   \n",
      "1  http://matchhistory.na.leagueoflegends.com/en/...  bTowers  39.269   \n",
      "2  http://matchhistory.na.leagueoflegends.com/en/...  bTowers  33.583   \n",
      "\n",
      "       Lane          Type  \n",
      "0  MID_LANE   BASE_TURRET  \n",
      "1  MID_LANE  NEXUS_TURRET  \n",
      "2  BOT_LANE  INNER_TURRET  \n",
      "\n"
     ]
    }
   ],
   "source": [
    "for d, f in zip(DATA,NAMES):\n",
    "    print(f)\n",
    "    print(d.head(3))\n",
    "    print()"
   ]
  },
  {
   "cell_type": "code",
   "execution_count": null,
   "id": "87ef2da9-388d-49bf-b7ed-abd3fc74f538",
   "metadata": {},
   "outputs": [],
   "source": []
  }
 ],
 "metadata": {
  "kernelspec": {
   "display_name": "Python 3 (ipykernel)",
   "language": "python",
   "name": "python3"
  },
  "language_info": {
   "codemirror_mode": {
    "name": "ipython",
    "version": 3
   },
   "file_extension": ".py",
   "mimetype": "text/x-python",
   "name": "python",
   "nbconvert_exporter": "python",
   "pygments_lexer": "ipython3",
   "version": "3.10.4"
  }
 },
 "nbformat": 4,
 "nbformat_minor": 5
}
